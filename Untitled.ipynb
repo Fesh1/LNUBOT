{
 "cells": [
  {
   "cell_type": "code",
   "execution_count": 330,
   "metadata": {},
   "outputs": [],
   "source": [
    "import requests\n",
    "from bs4 import BeautifulSoup\n",
    "import bs4"
   ]
  },
  {
   "cell_type": "code",
   "execution_count": 371,
   "metadata": {},
   "outputs": [],
   "source": [
    "r2 = requests.get(\"https://physics.lnu.edu.ua/news\")\n",
    "html2 = BeautifulSoup(r2.content, \"html.parser\")\n",
    "html2 = html2.main"
   ]
  },
  {
   "cell_type": "code",
   "execution_count": 372,
   "metadata": {},
   "outputs": [
    {
     "data": {
      "text/plain": [
       "<main class=\"content-area\" role=\"main\">\n",
       "<div class=\"content news\">\n",
       "<h1 class=\"page-title\">Новини</h1>\n",
       "<article>\n",
       "<header class=\"header\">\n",
       "<h2 class=\"title\"><a href=\"https://physics.lnu.edu.ua/news/hrafik-likvidatsii-akademichnoi-zaborhovanosti-po-formi-2\">Графік ліквідації академічної заборгованості по формі 2</a></h2>\n",
       "<div class=\"meta\">18.01.2021 | 14:02</div>\n",
       "</header>\n",
       "<div class=\"excerpt\"><p>Терміни здачі (27.01.2021-02.02.2021)<br/>\n",
       "Детальніше<br/>\n",
       " </p>\n",
       "<a class=\"read-more\" href=\"https://physics.lnu.edu.ua/news/hrafik-likvidatsii-akademichnoi-zaborhovanosti-po-formi-2\">Читати »</a></div>\n",
       "<div class=\"clear\"></div>\n",
       "</article>\n",
       "<article>\n",
       "<header class=\"header\">\n",
       "<h2 class=\"title\"><a href=\"https://physics.lnu.edu.ua/news/na-sayti-onovleno-rozdil-praktyka\">На Сайті оновлено розділ “Практика”</a></h2>\n",
       "<div class=\"meta\">04.01.2021 | 09:12</div>\n",
       "</header>\n",
       "<div class=\"excerpt\"><p>ПЕРЕГЛЯНУТИ</p>\n",
       "<a class=\"read-more\" href=\"https://physics.lnu.edu.ua/news/na-sayti-onovleno-rozdil-praktyka\">Читати »</a></div>\n",
       "<div class=\"clear\"></div>\n",
       "</article>\n",
       "<article>\n",
       "<header class=\"header\">\n",
       "<h2 class=\"title\"><a href=\"https://physics.lnu.edu.ua/news/derzhavna-premiia-ukrainy-v-haluzi-nauky-i-tekhniky\">Державна премія України в галузі науки і техніки</a></h2>\n",
       "<div class=\"meta\">03.01.2021 | 07:44</div>\n",
       "</header>\n",
       "<div class=\"excerpt\"><p>Відповідно до Указу Президента України №608/2020 від 30 грудня 2020 року «Про присудження Державних премій України в галузі науки і техніки 2020 року» на підставі подання Комітету з Державних премій України в галузі науки і техніки двом науковцям Львівського університету присуджено Державні премії України в галузі науки і техніки. За роботу «Керування властивостями матеріалів в екстремальних умовах» Державні премії в складі авторського колективу присуджено докторові фізико-математичних наук, професорові кафедри фізики металів, начальникові Науково-дослідної частини Львівського національного університету імені Івана Франка Плевачуку Юрію Олександровичу та...</p>\n",
       "<a class=\"read-more\" href=\"https://physics.lnu.edu.ua/news/derzhavna-premiia-ukrainy-v-haluzi-nauky-i-tekhniky\">Читати »</a></div>\n",
       "<div class=\"clear\"></div>\n",
       "</article>\n",
       "<article>\n",
       "<header class=\"header\">\n",
       "<h2 class=\"title\"><a href=\"https://physics.lnu.edu.ua/news/fizychnyj-fakultet-u-fotos\">Фізичний факультет у фотографіях</a></h2>\n",
       "<div class=\"meta\">02.01.2021 | 10:40</div>\n",
       "</header>\n",
       "<div class=\"excerpt\"><p>\n",
       "Більше фото за цим посиланням<br/>\n",
       "Джерело</p>\n",
       "<a class=\"read-more\" href=\"https://physics.lnu.edu.ua/news/fizychnyj-fakultet-u-fotos\">Читати »</a></div>\n",
       "<div class=\"clear\"></div>\n",
       "</article>\n",
       "<article>\n",
       "<header class=\"header\">\n",
       "<h2 class=\"title\"><a href=\"https://physics.lnu.edu.ua/news/z-novym-rokom\">З НОВИМ РОКОМ !!!</a></h2>\n",
       "<div class=\"meta\">01.01.2021 | 14:04</div>\n",
       "</header>\n",
       "<div class=\"excerpt\"><a class=\"read-more\" href=\"https://physics.lnu.edu.ua/news/z-novym-rokom\">Читати »</a></div>\n",
       "<div class=\"clear\"></div>\n",
       "</article>\n",
       "<div class=\"pagination clearfix\">\n",
       "<span class=\"link prev disabled\">«</span>\n",
       "<span class=\"current\">1</span>\n",
       "<a class=\"link page\" href=\"https://physics.lnu.edu.ua/news/page/2\">2</a>\n",
       "<a class=\"link page\" href=\"https://physics.lnu.edu.ua/news/page/3\">3</a>\n",
       "<span class=\"dots\">…</span>\n",
       "<a class=\"link page last\" href=\"https://physics.lnu.edu.ua/news/page/38\">38</a>\n",
       "<a class=\"link next\" href=\"https://physics.lnu.edu.ua/news/page/2\">»</a>\n",
       "</div>\n",
       "</div>\n",
       "</main>"
      ]
     },
     "execution_count": 372,
     "metadata": {},
     "output_type": "execute_result"
    }
   ],
   "source": [
    "html2"
   ]
  },
  {
   "cell_type": "code",
   "execution_count": 354,
   "metadata": {},
   "outputs": [],
   "source": [
    "time_of_last_publication = html2.div.div.contents[0].replace('| ', '')"
   ]
  },
  {
   "cell_type": "code",
   "execution_count": 360,
   "metadata": {},
   "outputs": [],
   "source": [
    "time_of_last_publication = time_of_last_publication[0:10]"
   ]
  },
  {
   "cell_type": "code",
   "execution_count": 361,
   "metadata": {},
   "outputs": [
    {
     "data": {
      "text/plain": [
       "'18.01.2021'"
      ]
     },
     "execution_count": 361,
     "metadata": {},
     "output_type": "execute_result"
    }
   ],
   "source": [
    "time_of_last_publication"
   ]
  },
  {
   "cell_type": "code",
   "execution_count": 373,
   "metadata": {},
   "outputs": [
    {
     "ename": "NameError",
     "evalue": "name 'faculty' is not defined",
     "output_type": "error",
     "traceback": [
      "\u001b[0;31m---------------------------------------------------------------------------\u001b[0m",
      "\u001b[0;31mNameError\u001b[0m                                 Traceback (most recent call last)",
      "\u001b[0;32m<ipython-input-373-7f7bc82f90ff>\u001b[0m in \u001b[0;36m<module>\u001b[0;34m\u001b[0m\n\u001b[0;32m----> 1\u001b[0;31m \u001b[0;32mif\u001b[0m \u001b[0mfaculty\u001b[0m \u001b[0;34m==\u001b[0m \u001b[0;34m'mmf'\u001b[0m\u001b[0;34m:\u001b[0m\u001b[0;34m\u001b[0m\u001b[0;34m\u001b[0m\u001b[0m\n\u001b[0m\u001b[1;32m      2\u001b[0m     \u001b[0mr2\u001b[0m \u001b[0;34m=\u001b[0m \u001b[0mrequests\u001b[0m\u001b[0;34m.\u001b[0m\u001b[0mget\u001b[0m\u001b[0;34m(\u001b[0m\u001b[0;34m'http://new.{}.lnu.edu.ua/news'\u001b[0m\u001b[0;34m.\u001b[0m\u001b[0mformat\u001b[0m\u001b[0;34m(\u001b[0m\u001b[0mfaculty\u001b[0m\u001b[0;34m)\u001b[0m\u001b[0;34m)\u001b[0m\u001b[0;34m\u001b[0m\u001b[0;34m\u001b[0m\u001b[0m\n\u001b[1;32m      3\u001b[0m \u001b[0;32melse\u001b[0m\u001b[0;34m:\u001b[0m\u001b[0;34m\u001b[0m\u001b[0;34m\u001b[0m\u001b[0m\n\u001b[1;32m      4\u001b[0m     \u001b[0mr2\u001b[0m \u001b[0;34m=\u001b[0m \u001b[0mrequests\u001b[0m\u001b[0;34m.\u001b[0m\u001b[0mget\u001b[0m\u001b[0;34m(\u001b[0m\u001b[0;34m\"https://{}.lnu.edu.ua/news\"\u001b[0m\u001b[0;34m.\u001b[0m\u001b[0mformat\u001b[0m\u001b[0;34m(\u001b[0m\u001b[0mfaculty\u001b[0m\u001b[0;34m)\u001b[0m\u001b[0;34m)\u001b[0m\u001b[0;34m\u001b[0m\u001b[0;34m\u001b[0m\u001b[0m\n\u001b[1;32m      5\u001b[0m \u001b[0mhtml2\u001b[0m \u001b[0;34m=\u001b[0m \u001b[0mBeautifulSoup\u001b[0m\u001b[0;34m(\u001b[0m\u001b[0mr2\u001b[0m\u001b[0;34m.\u001b[0m\u001b[0m_content\u001b[0m\u001b[0;34m,\u001b[0m \u001b[0;34m\"html.parser\"\u001b[0m\u001b[0;34m)\u001b[0m\u001b[0;34m\u001b[0m\u001b[0;34m\u001b[0m\u001b[0m\n",
      "\u001b[0;31mNameError\u001b[0m: name 'faculty' is not defined"
     ]
    }
   ],
   "source": [
    "if faculty == 'mmf':\n",
    "    r2 = requests.get('http://new.{}.lnu.edu.ua/news'.format(faculty))\n",
    "else:  \n",
    "    r2 = requests.get(\"https://{}.lnu.edu.ua/news\".format(faculty))\n",
    "html2 = BeautifulSoup(r2._content, \"html.parser\")\n",
    "html2 = html2.main\n",
    "time_of_last_publication = html2.div.div.contents[0].replace('| ', '')\n",
    "\n",
    "if time_of_last_publication == date.today().strftime(\"%d.%m.%Y\"):\n",
    "    html2.a.attrs['href']"
   ]
  },
  {
   "cell_type": "code",
   "execution_count": 362,
   "metadata": {},
   "outputs": [
    {
     "data": {
      "text/plain": [
       "'19.01.2021'"
      ]
     },
     "execution_count": 362,
     "metadata": {},
     "output_type": "execute_result"
    }
   ],
   "source": [
    "from datetime import date"
   ]
  },
  {
   "cell_type": "code",
   "execution_count": 364,
   "metadata": {},
   "outputs": [
    {
     "data": {
      "text/plain": [
       "'https://physics.lnu.edu.ua/news/hrafik-likvidatsii-akademichnoi-zaborhovanosti-po-formi-2'"
      ]
     },
     "execution_count": 364,
     "metadata": {},
     "output_type": "execute_result"
    }
   ],
   "source": [
    "html2.a.attrs['href']"
   ]
  },
  {
   "cell_type": "code",
   "execution_count": 391,
   "metadata": {},
   "outputs": [],
   "source": [
    "import time"
   ]
  },
  {
   "cell_type": "code",
   "execution_count": 392,
   "metadata": {},
   "outputs": [
    {
     "ename": "TypeError",
     "evalue": "'module' object is not callable",
     "output_type": "error",
     "traceback": [
      "\u001b[0;31m---------------------------------------------------------------------------\u001b[0m",
      "\u001b[0;31mTypeError\u001b[0m                                 Traceback (most recent call last)",
      "\u001b[0;32m<ipython-input-392-2e99faa0b124>\u001b[0m in \u001b[0;36m<module>\u001b[0;34m\u001b[0m\n\u001b[0;32m----> 1\u001b[0;31m \u001b[0mtime\u001b[0m\u001b[0;34m(\u001b[0m\u001b[0mhour\u001b[0m\u001b[0;34m=\u001b[0m\u001b[0;36m16\u001b[0m\u001b[0;34m,\u001b[0m \u001b[0mminute\u001b[0m\u001b[0;34m=\u001b[0m\u001b[0;36m15\u001b[0m\u001b[0;34m,\u001b[0m \u001b[0msecond\u001b[0m\u001b[0;34m=\u001b[0m\u001b[0;36m0\u001b[0m\u001b[0;34m)\u001b[0m\u001b[0;34m\u001b[0m\u001b[0;34m\u001b[0m\u001b[0m\n\u001b[0m",
      "\u001b[0;31mTypeError\u001b[0m: 'module' object is not callable"
     ]
    },
    {
     "name": "stderr",
     "output_type": "stream",
     "text": [
      "Error while getting Updates: Conflict: terminated by other getUpdates request; make sure that only one bot instance is running\n",
      "No error handlers are registered, logging exception.\n",
      "Traceback (most recent call last):\n",
      "  File \"/home/andrii/anaconda3/lib/python3.7/site-packages/telegram/ext/updater.py\", line 465, in _network_loop_retry\n",
      "    if not action_cb():\n",
      "  File \"/home/andrii/anaconda3/lib/python3.7/site-packages/telegram/ext/updater.py\", line 420, in polling_action_cb\n",
      "    allowed_updates=allowed_updates,\n",
      "  File \"<decorator-gen-147>\", line 2, in get_updates\n",
      "  File \"/home/andrii/anaconda3/lib/python3.7/site-packages/telegram/bot.py\", line 135, in decorator\n",
      "    result = func(*args, **kwargs)\n",
      "  File \"/home/andrii/anaconda3/lib/python3.7/site-packages/telegram/bot.py\", line 2639, in get_updates\n",
      "    'getUpdates', data, timeout=float(read_latency) + float(timeout), api_kwargs=api_kwargs\n",
      "  File \"/home/andrii/anaconda3/lib/python3.7/site-packages/telegram/bot.py\", line 245, in _post\n",
      "    return self.request.post(f'{self.base_url}/{endpoint}', data=data, timeout=timeout)\n",
      "  File \"/home/andrii/anaconda3/lib/python3.7/site-packages/telegram/utils/request.py\", line 354, in post\n",
      "    **urlopen_kwargs,\n",
      "  File \"/home/andrii/anaconda3/lib/python3.7/site-packages/telegram/utils/request.py\", line 276, in _request_wrapper\n",
      "    raise Conflict(message)\n",
      "telegram.error.Conflict: Conflict: terminated by other getUpdates request; make sure that only one bot instance is running\n",
      "Error while getting Updates: Conflict: terminated by other getUpdates request; make sure that only one bot instance is running\n",
      "No error handlers are registered, logging exception.\n",
      "Traceback (most recent call last):\n",
      "  File \"/home/andrii/anaconda3/lib/python3.7/site-packages/telegram/ext/updater.py\", line 465, in _network_loop_retry\n",
      "    if not action_cb():\n",
      "  File \"/home/andrii/anaconda3/lib/python3.7/site-packages/telegram/ext/updater.py\", line 420, in polling_action_cb\n",
      "    allowed_updates=allowed_updates,\n",
      "  File \"<decorator-gen-147>\", line 2, in get_updates\n",
      "  File \"/home/andrii/anaconda3/lib/python3.7/site-packages/telegram/bot.py\", line 135, in decorator\n",
      "    result = func(*args, **kwargs)\n",
      "  File \"/home/andrii/anaconda3/lib/python3.7/site-packages/telegram/bot.py\", line 2639, in get_updates\n",
      "    'getUpdates', data, timeout=float(read_latency) + float(timeout), api_kwargs=api_kwargs\n",
      "  File \"/home/andrii/anaconda3/lib/python3.7/site-packages/telegram/bot.py\", line 245, in _post\n",
      "    return self.request.post(f'{self.base_url}/{endpoint}', data=data, timeout=timeout)\n",
      "  File \"/home/andrii/anaconda3/lib/python3.7/site-packages/telegram/utils/request.py\", line 354, in post\n",
      "    **urlopen_kwargs,\n",
      "  File \"/home/andrii/anaconda3/lib/python3.7/site-packages/telegram/utils/request.py\", line 276, in _request_wrapper\n",
      "    raise Conflict(message)\n",
      "telegram.error.Conflict: Conflict: terminated by other getUpdates request; make sure that only one bot instance is running\n",
      "Error while getting Updates: Conflict: terminated by other getUpdates request; make sure that only one bot instance is running\n",
      "No error handlers are registered, logging exception.\n",
      "Traceback (most recent call last):\n",
      "  File \"/home/andrii/anaconda3/lib/python3.7/site-packages/telegram/ext/updater.py\", line 465, in _network_loop_retry\n",
      "    if not action_cb():\n",
      "  File \"/home/andrii/anaconda3/lib/python3.7/site-packages/telegram/ext/updater.py\", line 420, in polling_action_cb\n",
      "    allowed_updates=allowed_updates,\n",
      "  File \"<decorator-gen-147>\", line 2, in get_updates\n",
      "  File \"/home/andrii/anaconda3/lib/python3.7/site-packages/telegram/bot.py\", line 135, in decorator\n",
      "    result = func(*args, **kwargs)\n",
      "  File \"/home/andrii/anaconda3/lib/python3.7/site-packages/telegram/bot.py\", line 2639, in get_updates\n",
      "    'getUpdates', data, timeout=float(read_latency) + float(timeout), api_kwargs=api_kwargs\n",
      "  File \"/home/andrii/anaconda3/lib/python3.7/site-packages/telegram/bot.py\", line 245, in _post\n",
      "    return self.request.post(f'{self.base_url}/{endpoint}', data=data, timeout=timeout)\n",
      "  File \"/home/andrii/anaconda3/lib/python3.7/site-packages/telegram/utils/request.py\", line 354, in post\n",
      "    **urlopen_kwargs,\n",
      "  File \"/home/andrii/anaconda3/lib/python3.7/site-packages/telegram/utils/request.py\", line 276, in _request_wrapper\n",
      "    raise Conflict(message)\n",
      "telegram.error.Conflict: Conflict: terminated by other getUpdates request; make sure that only one bot instance is running\n",
      "Error while getting Updates: Conflict: terminated by other getUpdates request; make sure that only one bot instance is running\n",
      "No error handlers are registered, logging exception.\n",
      "Traceback (most recent call last):\n",
      "  File \"/home/andrii/anaconda3/lib/python3.7/site-packages/telegram/ext/updater.py\", line 465, in _network_loop_retry\n",
      "    if not action_cb():\n",
      "  File \"/home/andrii/anaconda3/lib/python3.7/site-packages/telegram/ext/updater.py\", line 420, in polling_action_cb\n",
      "    allowed_updates=allowed_updates,\n",
      "  File \"<decorator-gen-147>\", line 2, in get_updates\n",
      "  File \"/home/andrii/anaconda3/lib/python3.7/site-packages/telegram/bot.py\", line 135, in decorator\n",
      "    result = func(*args, **kwargs)\n",
      "  File \"/home/andrii/anaconda3/lib/python3.7/site-packages/telegram/bot.py\", line 2639, in get_updates\n",
      "    'getUpdates', data, timeout=float(read_latency) + float(timeout), api_kwargs=api_kwargs\n",
      "  File \"/home/andrii/anaconda3/lib/python3.7/site-packages/telegram/bot.py\", line 245, in _post\n",
      "    return self.request.post(f'{self.base_url}/{endpoint}', data=data, timeout=timeout)\n",
      "  File \"/home/andrii/anaconda3/lib/python3.7/site-packages/telegram/utils/request.py\", line 354, in post\n",
      "    **urlopen_kwargs,\n",
      "  File \"/home/andrii/anaconda3/lib/python3.7/site-packages/telegram/utils/request.py\", line 276, in _request_wrapper\n",
      "    raise Conflict(message)\n",
      "telegram.error.Conflict: Conflict: terminated by other getUpdates request; make sure that only one bot instance is running\n",
      "Error while getting Updates: Conflict: terminated by other getUpdates request; make sure that only one bot instance is running\n",
      "No error handlers are registered, logging exception.\n",
      "Traceback (most recent call last):\n",
      "  File \"/home/andrii/anaconda3/lib/python3.7/site-packages/telegram/ext/updater.py\", line 465, in _network_loop_retry\n",
      "    if not action_cb():\n",
      "  File \"/home/andrii/anaconda3/lib/python3.7/site-packages/telegram/ext/updater.py\", line 420, in polling_action_cb\n",
      "    allowed_updates=allowed_updates,\n",
      "  File \"<decorator-gen-147>\", line 2, in get_updates\n",
      "  File \"/home/andrii/anaconda3/lib/python3.7/site-packages/telegram/bot.py\", line 135, in decorator\n",
      "    result = func(*args, **kwargs)\n",
      "  File \"/home/andrii/anaconda3/lib/python3.7/site-packages/telegram/bot.py\", line 2639, in get_updates\n",
      "    'getUpdates', data, timeout=float(read_latency) + float(timeout), api_kwargs=api_kwargs\n",
      "  File \"/home/andrii/anaconda3/lib/python3.7/site-packages/telegram/bot.py\", line 245, in _post\n",
      "    return self.request.post(f'{self.base_url}/{endpoint}', data=data, timeout=timeout)\n",
      "  File \"/home/andrii/anaconda3/lib/python3.7/site-packages/telegram/utils/request.py\", line 354, in post\n",
      "    **urlopen_kwargs,\n",
      "  File \"/home/andrii/anaconda3/lib/python3.7/site-packages/telegram/utils/request.py\", line 276, in _request_wrapper\n",
      "    raise Conflict(message)\n",
      "telegram.error.Conflict: Conflict: terminated by other getUpdates request; make sure that only one bot instance is running\n",
      "No error handlers are registered, logging exception.\n",
      "Traceback (most recent call last):\n",
      "  File \"/home/andrii/anaconda3/lib/python3.7/site-packages/telegram/ext/dispatcher.py\", line 432, in process_update\n",
      "    handler.handle_update(update, self, check, context)\n",
      "  File \"/home/andrii/anaconda3/lib/python3.7/site-packages/telegram/ext/handler.py\", line 156, in handle_update\n",
      "    return self.callback(update, context)\n",
      "TypeError: callback_timer() missing 1 required positional argument: 'job_queue'\n"
     ]
    }
   ],
   "source": [
    "time(hour=16, minute=15, second=0)"
   ]
  },
  {
   "cell_type": "code",
   "execution_count": null,
   "metadata": {},
   "outputs": [],
   "source": []
  },
  {
   "cell_type": "code",
   "execution_count": 380,
   "metadata": {},
   "outputs": [
    {
     "name": "stdout",
     "output_type": "stream",
     "text": [
      "I'm working... It is 01:00\n"
     ]
    },
    {
     "ename": "KeyboardInterrupt",
     "evalue": "",
     "output_type": "error",
     "traceback": [
      "\u001b[0;31m---------------------------------------------------------------------------\u001b[0m",
      "\u001b[0;31mKeyboardInterrupt\u001b[0m                         Traceback (most recent call last)",
      "\u001b[0;32m<ipython-input-380-37142ea82110>\u001b[0m in \u001b[0;36m<module>\u001b[0;34m\u001b[0m\n\u001b[1;32m      9\u001b[0m \u001b[0mschedule\u001b[0m\u001b[0;34m.\u001b[0m\u001b[0mevery\u001b[0m\u001b[0;34m(\u001b[0m\u001b[0;34m)\u001b[0m\u001b[0;34m.\u001b[0m\u001b[0mday\u001b[0m\u001b[0;34m.\u001b[0m\u001b[0mat\u001b[0m\u001b[0;34m(\u001b[0m\u001b[0;34m\"18:00\"\u001b[0m\u001b[0;34m)\u001b[0m\u001b[0;34m.\u001b[0m\u001b[0mdo\u001b[0m\u001b[0;34m(\u001b[0m\u001b[0mjob\u001b[0m\u001b[0;34m,\u001b[0m\u001b[0;34m'It is 01:00'\u001b[0m\u001b[0;34m)\u001b[0m\u001b[0;34m\u001b[0m\u001b[0;34m\u001b[0m\u001b[0m\n\u001b[1;32m     10\u001b[0m \u001b[0;32mwhile\u001b[0m \u001b[0;32mTrue\u001b[0m\u001b[0;34m:\u001b[0m\u001b[0;34m\u001b[0m\u001b[0;34m\u001b[0m\u001b[0m\n\u001b[0;32m---> 11\u001b[0;31m     \u001b[0mschedule\u001b[0m\u001b[0;34m.\u001b[0m\u001b[0mrun_pending\u001b[0m\u001b[0;34m(\u001b[0m\u001b[0;34m)\u001b[0m\u001b[0;34m\u001b[0m\u001b[0;34m\u001b[0m\u001b[0m\n\u001b[0m\u001b[1;32m     12\u001b[0m     \u001b[0;32mif\u001b[0m \u001b[0m__name__\u001b[0m \u001b[0;34m==\u001b[0m \u001b[0;34m'main'\u001b[0m\u001b[0;34m:\u001b[0m\u001b[0;34m\u001b[0m\u001b[0;34m\u001b[0m\u001b[0m\n\u001b[1;32m     13\u001b[0m         \u001b[0mprint\u001b[0m\u001b[0;34m(\u001b[0m\u001b[0;34m'fff'\u001b[0m\u001b[0;34m)\u001b[0m\u001b[0;34m\u001b[0m\u001b[0;34m\u001b[0m\u001b[0m\n",
      "\u001b[0;32m~/anaconda3/lib/python3.7/site-packages/schedule/__init__.py\u001b[0m in \u001b[0;36mrun_pending\u001b[0;34m()\u001b[0m\n\u001b[1;32m    561\u001b[0m     \u001b[0;34m:\u001b[0m\u001b[0mdata\u001b[0m\u001b[0;34m:\u001b[0m\u001b[0;31m`\u001b[0m\u001b[0mdefault\u001b[0m \u001b[0mscheduler\u001b[0m \u001b[0minstance\u001b[0m \u001b[0;34m<\u001b[0m\u001b[0mdefault_scheduler\u001b[0m\u001b[0;34m>\u001b[0m\u001b[0;31m`\u001b[0m\u001b[0;34m.\u001b[0m\u001b[0;34m\u001b[0m\u001b[0;34m\u001b[0m\u001b[0m\n\u001b[1;32m    562\u001b[0m     \"\"\"\n\u001b[0;32m--> 563\u001b[0;31m     \u001b[0mdefault_scheduler\u001b[0m\u001b[0;34m.\u001b[0m\u001b[0mrun_pending\u001b[0m\u001b[0;34m(\u001b[0m\u001b[0;34m)\u001b[0m\u001b[0;34m\u001b[0m\u001b[0;34m\u001b[0m\u001b[0m\n\u001b[0m\u001b[1;32m    564\u001b[0m \u001b[0;34m\u001b[0m\u001b[0m\n\u001b[1;32m    565\u001b[0m \u001b[0;34m\u001b[0m\u001b[0m\n",
      "\u001b[0;31mKeyboardInterrupt\u001b[0m: "
     ]
    }
   ],
   "source": [
    "import schedule\n",
    "import time\n",
    "\n",
    "\n",
    "schedule.every().day.at(\"18:00\").do(job,'It is 01:00')\n",
    "while True:\n",
    "    schedule.run_pending()\n"
   ]
  },
  {
   "cell_type": "code",
   "execution_count": null,
   "metadata": {},
   "outputs": [],
   "source": [
    "def callback_alarm(context: telegram.ext.CallbackContext):\n",
    "  bot.send_message(chat_id=id, text='Hi, This is a daily reminder')\n",
    "\n",
    "def reminder(update,context):\n",
    "   bot.send_message(chat_id = update.effective_chat.id , text='Daily reminder',\n",
    "                    'has been set! You\\'ll get notified at 8 AM daily')\n",
    "   context.job_queue.\\\n",
    "    run_daily(callback_alarm, context=update.message.\\\n",
    "                               chat_id,days=(0, 1, 2, 3, 4, 5, 6),time = time(hour = 16, minute = 15, second = 0))"
   ]
  }
 ],
 "metadata": {
  "kernelspec": {
   "display_name": "Python 3",
   "language": "python",
   "name": "python3"
  }
 },
 "nbformat": 4,
 "nbformat_minor": 4
}
