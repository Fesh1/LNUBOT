{
 "cells": [
  {
   "cell_type": "code",
   "execution_count": 1,
   "metadata": {},
   "outputs": [],
   "source": [
    "import sqlalchemy as db\n",
    "import requests\n",
    "from bs4 import BeautifulSoup\n",
    "import re \n",
    "import json"
   ]
  },
  {
   "cell_type": "code",
   "execution_count": 4,
   "metadata": {},
   "outputs": [],
   "source": [
    "from data.database import Employee, Department, Faculty, User, session\n",
    "from settings.consts import faculties_url, departments"
   ]
  },
  {
   "cell_type": "markdown",
   "metadata": {},
   "source": [
    "# Filling the table faculties\n",
    "##                      Table structure\n",
    "## |facultity_id|faculty_name|faculty_url|"
   ]
  },
  {
   "cell_type": "code",
   "execution_count": 72,
   "metadata": {},
   "outputs": [],
   "source": [
    "for url, name in faculties_url.items():\n",
    "    obj = Faculty(faculty_name =name.lower(), faculty_url=url )\n",
    "    session.add(obj)\n",
    "    session.commit()"
   ]
  },
  {
   "cell_type": "markdown",
   "metadata": {},
   "source": [
    "# Filling the table depatments\n",
    "##                      Table structure\n",
    "## |depatments_id|depatments_name|depatments_url|faculty_id|"
   ]
  },
  {
   "cell_type": "code",
   "execution_count": 83,
   "metadata": {},
   "outputs": [
    {
     "name": "stdout",
     "output_type": "stream",
     "text": [
      "bioweb:  \n",
      "geography:  \n",
      "geology:  \n",
      "econom:  \n",
      "electronics:  \n",
      "journ:  \n",
      "lingua:  \n",
      "clio:  \n",
      "kultart:  \n",
      "mmf:  \n",
      "intrel:  \n",
      "pedagogy:  \n",
      "ami:  \n",
      "financial:  \n",
      "physics:  \n",
      "philology:  \n",
      "filos:  \n",
      "chem:  \n",
      "law:  \n"
     ]
    }
   ],
   "source": [
    "for faculty, DEPS in departments.items():\n",
    "    \n",
    "    fac_id = session.query(Faculty).filter(Faculty.faculty_url == faculty).first().faculty_id\n",
    "    \n",
    "    print(faculty+':  ')\n",
    "    for DEP in DEPS:\n",
    "        \n",
    "        \n",
    "        \n",
    "        в"
   ]
  },
  {
   "cell_type": "markdown",
   "metadata": {},
   "source": [
    "# Filling the table employers\n",
    "##                      Table structure\n",
    "## |employee_id|name|eployee_url|faculty_id|"
   ]
  },
  {
   "cell_type": "code",
   "execution_count": 29,
   "metadata": {},
   "outputs": [
    {
     "name": "stdout",
     "output_type": "stream",
     "text": [
      "bioweb:  \n",
      "    -biophysics-and-bioinformatics\n",
      "    -biochemistry\n",
      "    -botany\n",
      "    -genetics-and-biotechnology\n",
      "    -ecology\n",
      "    -zoology\n",
      "    -microbiology\n",
      "    -human-and-animals-psysiology\n",
      "    -plant-physiology-and-ecology\n",
      "geography:  \n",
      "    -geographyofukraine\n",
      "    -geomorphologyandpaleogeography\n",
      "    -kafedra-gruntoznavstva-i-heohrafiji-gruntiv\n",
      "    -ekonomichnoji-i-sotsialnoji-heohrafiji\n",
      "    -konstruktyvnoji-heohrafiji-i-kartohrafiji\n",
      "    -ratsionalnoho-vykorystannya-pryrodnyh-resursiv-i-ohorony-pryrody\n",
      "    -turyzmu\n",
      "    -fizychnoji-heohrafiji\n",
      "geology:  \n",
      "    -kafedra-heolohiji-korysnyh-kopalyn\n",
      "    -kafedra-ekolohichnoji-ta-inzhenernoji-heolohiji-i-hidroheolohiji\n",
      "    -kafedra-zahalnoji-ta-rehionalnoji-heolohiji\n",
      "    -kafedra-mineralohiji\n",
      "econom:  \n",
      "    -ananalitychnoji-ekonomiji-ta-mizhnarodnoji-ekonomiky\n",
      "    -bankivskoho-i-strahovoho-biznesu\n",
      "    -economiky-pidpryemstva\n",
      "    -ekonomiky-ukrajiny\n",
      "    -economic-cybernetics\n",
      "    -ekonomichnoji-teoriji\n",
      "    -informatsijnyh-system-u-menedzhmenti\n",
      "    -marketynhu\n",
      "    -menedzhmentu\n",
      "    -obliku-i-audytu\n",
      "    -statystyky\n",
      "    -finansiv-hroshovoho-obihu-ta-kredytu\n",
      "electronics:  \n",
      "    -optoelectronics-2\n",
      "    -radioelectronics-and-computer-sciences\n",
      "    -radiophysics-and-computer-technologies\n",
      "    -sensor-and-semiconductor-electronics\n",
      "    -system-design\n",
      "    -physic-and-bioelectronics\n",
      "journ:  \n",
      "    -kafedra-zarubizhnoji-presy-ta-informatsiji\n",
      "    -kafedra-movy-zasobiv-masovoji-informatsiji\n",
      "    -kafedra-novyh-medij\n",
      "    -kafedra-padiomovlennya-i-telebachennya\n",
      "    -kafedra-teoriji-i-praktyky-zhurnalistyky\n",
      "    -kafedra-ukrajinskoji-presy\n",
      "lingua:  \n",
      "    -kafedra-anhlijskoji-filolohiji\n",
      "    -inozemnyh-mov-dlya-humanitarnyh-fakultetiv\n",
      "    -inozemnyh-mov-dlya-pryrodnychyh-fakultetiv\n",
      "    -klasychnoji-filolohiji\n",
      "    -mizhkulturnoji-komunikatsiji-ta-perekladu\n",
      "    -nimetskoji-filolohiji\n",
      "    -the-hryhoriy-kochur-department-of-translation-studies-and-contrastive-linguistics\n",
      "    -svitovoji-literatury\n",
      "    -frantsuzkoji-filolohiji\n",
      "clio:  \n",
      "    -sotsiolohiji\n",
      "    -arheolohiji-ta-spetsialnyh-haluzej-istorychnoji-nauky\n",
      "    -davnoji-istoriji-ukrajiny-ta-arhivoznavstva\n",
      "    -etnolohiji\n",
      "    -istorychnoho-krajeznavstva\n",
      "    -istoriji-serednih-vikiv-ta-vizantynistyky\n",
      "    -istoriji-tsentralnoji-ta-shidnoji-evropy\n",
      "    -novitnoji-istoriji-ukrajiny\n",
      "    -novoji-ta-novitnoji-istoriji-zarubizhnyh-krajin\n",
      "kultart:  \n",
      "    -bibliotekoznavstva-i-bibliohrafiji\n",
      "    -muzykoznavstva\n",
      "    -muzychnoho-mystetstva\n",
      "    -rezhysury-ta-khoreohrafii\n",
      "    -teatroznavstva-ta-aktorskoji-majsternosti\n",
      "    -filosofiji-mystetstv\n",
      "mmf:  \n",
      "    -algebra-and-logic\n",
      "    -kvm\n",
      "    -heometriji-i-topolohiji\n",
      "    -matematychnoho-i-funktsionalnoho-analizu\n",
      "    -matematychnoho-modelyuvannya\n",
      "    -matematychnoji-ekonomiky-ta-ekonometriji\n",
      "    -msde\n",
      "    -mehaniky\n",
      "    -teoriji-funktsij-i-teoriji-jmovirnostej\n",
      "intrel:  \n",
      "    -jevropejskoho-prava\n",
      "    -inozemnyh-mov\n",
      "    -krajinoznavstva-i-mizhnarodnoho-turyzmu\n",
      "    -mizhnarodnyh-vidnosyn-i-dyplomatychnoji-sluzhby\n",
      "    -mizhnarodnyh-ekonomichnyh-vidnosyn\n",
      "    -mizhnarodnoho-ekonomichnoho-analizu-i-finansiv\n",
      "    -mizhnarodnoho-prava\n",
      "pedagogy:  \n",
      "    -pedagogy\n",
      "    -kafedra-pochatkovoji-ta-doshkilnoji-osvity\n",
      "    -kafedra-korektsijnoji-pedahohiky-ta-inklyuziji\n",
      "ami:  \n",
      "    -discrete-analysis-intelligent-system\n",
      "    -information-systems\n",
      "    -mathematical-modeling-of-social-and-economics-processes\n",
      "    -computational-mathematics\n",
      "    -applied-mathematics\n",
      "    -programming\n",
      "    -optimal-process-theory\n",
      "financial:  \n",
      "    -ekonomiky-ta-publichnoho-upravlinnya\n",
      "    -obliku-analizu-i-kontrolyu\n",
      "    -publichnoho-administruvannya-ta-upravlinnya-biznesom\n",
      "    -finansovoho-menedzhmentu\n",
      "    -tsyfrovoyi-ekonomiky-ta-biznes-analityky\n",
      "physics:  \n",
      "    -kafedra-astrofizyky\n",
      "    -kafedra-eksperymentalnoji-fizyky\n",
      "    -kafedra-zahalnoji-fizyky\n",
      "    -kafedra-teoretychnoji-fizyky\n",
      "    -fizyky-metaliv\n",
      "    -fizyky-tverdogo-tila\n",
      "philology:  \n",
      "    -zahalnoho-movoznavstva\n",
      "    -polskoji-filolohiji\n",
      "    -slovyanskoji-filolohiji\n",
      "    -shodoznavstva-imeni-profesora-yaroslava-dashkevycha\n",
      "    -teoriji-literatury-ta-porivnyalnoho-literaturoznavstva\n",
      "    -ukrajinskoho-prykladnoho-movoznavstva\n",
      "    -kafedra-ukrajinskoji-literatury-imeni-akademika-myhajla-voznyaka\n",
      "    -ukrajinskoji-movy\n",
      "    -kafedra-ukrajinskoji-folklorystyky-imeni-akademika-filareta-kolessy\n",
      "filos:  \n",
      "    -history-of-philosophy\n",
      "    -politilogy\n",
      "    -psyholohiji\n",
      "    -teoriji-ta-istoriji-kultury\n",
      "    -https-www-facebook-com-teoryandhistorypoliticalscience\n",
      "    -filosofiji\n",
      "chem:  \n",
      "    -analitycal-chemistry\n",
      "    -inorganic-chemistry\n",
      "    -organic-chemistry\n",
      "    -physical-and-colloid-chemistry\n",
      "law:  \n",
      "    -administratyvnoho-ta-finansovoho-prava\n",
      "    -intelektualnoji-vlasnosti-ta-korporatyvnoho-prava\n",
      "    -kafedra-istoriji-derzhavy-prava-ta-polityko-pravovyh-uchen\n",
      "    -kafedra-konstytutsijnoho-prava\n",
      "    -kafedra-kryminalnoho-prava-ta-kryminolohiji\n",
      "    -kafedra-kryminalnoho-protsesu-i-kryminalistyky\n",
      "    -kafedra-osnov-prava-ukrajiny\n",
      "    -kafedra-soc-prava\n",
      "    -kafedra-teoriji-ta-filosofiji-prava\n",
      "    -kafedra-cyvilnogo-prava-ta-procesy\n"
     ]
    }
   ],
   "source": [
    "for faculty, DEPS in departments.items():\n",
    "    \n",
    "    fac_id = session.query(Faculty).filter(Faculty.faculty_url == faculty).first().faculty_id\n",
    "    print(faculty+':  ')\n",
    "    for DEP in DEPS:\n",
    "        \n",
    "        \n",
    "        \n",
    "        if faculty == 'mmf':\n",
    "            r2 = requests.get('http://new.{}.lnu.edu.ua/department/{}'.format(faculty,DEP))\n",
    "        else:\n",
    "            r2 = requests.get('https://{}.lnu.edu.ua/department/{}'.format(faculty,DEP))\n",
    "        html2 = BeautifulSoup(r2._content, \"html.parser\")\n",
    "        html2.main.tbody\n",
    "        print('    -'+DEP)\n",
    "        html2 = html2.main.table.tbody.find_all(lambda tag: tag.name == 'td' and tag.get('class') == ['name'])\n",
    "        for i in html2:\n",
    "            if faculty == 'mmf':\n",
    "                employee_url1 = str(i.a.attrs['href']).replace('http://new.{}.lnu.edu.ua/employee/'.format(faculty), '')\n",
    "            else:\n",
    "                employee_url1 = str(i.a.attrs['href']).replace('https://{}.lnu.edu.ua/employee/'.format(faculty), '')\n",
    "            \n",
    "            if i.a.contents and employee_url1:\n",
    "                name1 = i.a.contents[0].lower()\n",
    "                employee = Employee(name = name1,employee_url=employee_url1, faculty_id =  fac_id)\n",
    "                session.add(employee)\n",
    "                session.commit()\n",
    "        "
   ]
  },
  {
   "cell_type": "code",
   "execution_count": 5,
   "metadata": {},
   "outputs": [],
   "source": [
    "all_user = session.query(User).all()\n"
   ]
  },
  {
   "cell_type": "code",
   "execution_count": 10,
   "metadata": {},
   "outputs": [
    {
     "data": {
      "text/plain": [
       "{'_sa_instance_state': <sqlalchemy.orm.state.InstanceState at 0x7f71f82b1290>,\n",
       " 'faculty': 'mmf',\n",
       " 'admin_right': False,\n",
       " 'chat_id': 393916152}"
      ]
     },
     "execution_count": 10,
     "metadata": {},
     "output_type": "execute_result"
    }
   ],
   "source": [
    "all_user[0].__dict__"
   ]
  },
  {
   "cell_type": "code",
   "execution_count": null,
   "metadata": {},
   "outputs": [],
   "source": []
  }
 ],
 "metadata": {
  "kernelspec": {
   "display_name": "Python 3",
   "language": "python",
   "name": "python3"
  },
  "language_info": {
   "codemirror_mode": {
    "name": "ipython",
    "version": 3
   },
   "file_extension": ".py",
   "mimetype": "text/x-python",
   "name": "python",
   "nbconvert_exporter": "python",
   "pygments_lexer": "ipython3",
   "version": "3.7.7"
  }
 },
 "nbformat": 4,
 "nbformat_minor": 4
}
